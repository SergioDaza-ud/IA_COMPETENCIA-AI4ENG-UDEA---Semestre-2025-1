{
 "cells": [
  {
   "cell_type": "markdown",
   "metadata": {},
   "source": [
    "1. Importación de librerías"
   ]
  },
  {
   "cell_type": "code",
   "execution_count": 1,
   "metadata": {},
   "outputs": [],
   "source": [
    "import pandas as pd\n",
    "import numpy as np\n",
    "import matplotlib.pyplot as plt\n",
    "import seaborn as sns\n",
    "\n",
    "# Configuración general de los gráficos\n",
    "plt.style.use('seaborn-v0_8-whitegrid')\n",
    "plt.rcParams['figure.figsize'] = (10, 6)"
   ]
  },
  {
   "cell_type": "markdown",
   "metadata": {},
   "source": [
    "2. Cargar los datos"
   ]
  },
  {
   "cell_type": "code",
   "execution_count": 2,
   "metadata": {},
   "outputs": [
    {
     "data": {
      "text/html": [
       "<div>\n",
       "<style scoped>\n",
       "    .dataframe tbody tr th:only-of-type {\n",
       "        vertical-align: middle;\n",
       "    }\n",
       "\n",
       "    .dataframe tbody tr th {\n",
       "        vertical-align: top;\n",
       "    }\n",
       "\n",
       "    .dataframe thead th {\n",
       "        text-align: right;\n",
       "    }\n",
       "</style>\n",
       "<table border=\"1\" class=\"dataframe\">\n",
       "  <thead>\n",
       "    <tr style=\"text-align: right;\">\n",
       "      <th></th>\n",
       "      <th>ID</th>\n",
       "      <th>PERIODO</th>\n",
       "      <th>ESTU_PRGM_ACADEMICO</th>\n",
       "      <th>ESTU_PRGM_DEPARTAMENTO</th>\n",
       "      <th>ESTU_VALORMATRICULAUNIVERSIDAD</th>\n",
       "      <th>ESTU_HORASSEMANATRABAJA</th>\n",
       "      <th>FAMI_ESTRATOVIVIENDA</th>\n",
       "      <th>FAMI_TIENEINTERNET</th>\n",
       "      <th>FAMI_EDUCACIONPADRE</th>\n",
       "      <th>FAMI_EDUCACIONMADRE</th>\n",
       "      <th>ESTU_PAGOMATRICULAPROPIO</th>\n",
       "      <th>RENDIMIENTO_GLOBAL</th>\n",
       "    </tr>\n",
       "  </thead>\n",
       "  <tbody>\n",
       "    <tr>\n",
       "      <th>0</th>\n",
       "      <td>904256</td>\n",
       "      <td>20212</td>\n",
       "      <td>ENFERMERIA</td>\n",
       "      <td>BOGOTÁ</td>\n",
       "      <td>Entre 5.5 millones y menos de 7 millones</td>\n",
       "      <td>Menos de 10 horas</td>\n",
       "      <td>Estrato 3</td>\n",
       "      <td>Si</td>\n",
       "      <td>Técnica o tecnológica incompleta</td>\n",
       "      <td>Postgrado</td>\n",
       "      <td>No</td>\n",
       "      <td>medio-alto</td>\n",
       "    </tr>\n",
       "    <tr>\n",
       "      <th>1</th>\n",
       "      <td>645256</td>\n",
       "      <td>20212</td>\n",
       "      <td>DERECHO</td>\n",
       "      <td>ATLANTICO</td>\n",
       "      <td>Entre 2.5 millones y menos de 4 millones</td>\n",
       "      <td>0</td>\n",
       "      <td>Estrato 3</td>\n",
       "      <td>No</td>\n",
       "      <td>Técnica o tecnológica completa</td>\n",
       "      <td>Técnica o tecnológica incompleta</td>\n",
       "      <td>No</td>\n",
       "      <td>bajo</td>\n",
       "    </tr>\n",
       "    <tr>\n",
       "      <th>2</th>\n",
       "      <td>308367</td>\n",
       "      <td>20203</td>\n",
       "      <td>MERCADEO Y PUBLICIDAD</td>\n",
       "      <td>BOGOTÁ</td>\n",
       "      <td>Entre 2.5 millones y menos de 4 millones</td>\n",
       "      <td>Más de 30 horas</td>\n",
       "      <td>Estrato 3</td>\n",
       "      <td>Si</td>\n",
       "      <td>Secundaria (Bachillerato) completa</td>\n",
       "      <td>Secundaria (Bachillerato) completa</td>\n",
       "      <td>No</td>\n",
       "      <td>bajo</td>\n",
       "    </tr>\n",
       "    <tr>\n",
       "      <th>3</th>\n",
       "      <td>470353</td>\n",
       "      <td>20195</td>\n",
       "      <td>ADMINISTRACION DE EMPRESAS</td>\n",
       "      <td>SANTANDER</td>\n",
       "      <td>Entre 4 millones y menos de 5.5 millones</td>\n",
       "      <td>0</td>\n",
       "      <td>Estrato 4</td>\n",
       "      <td>Si</td>\n",
       "      <td>No sabe</td>\n",
       "      <td>Secundaria (Bachillerato) completa</td>\n",
       "      <td>No</td>\n",
       "      <td>alto</td>\n",
       "    </tr>\n",
       "    <tr>\n",
       "      <th>4</th>\n",
       "      <td>989032</td>\n",
       "      <td>20212</td>\n",
       "      <td>PSICOLOGIA</td>\n",
       "      <td>ANTIOQUIA</td>\n",
       "      <td>Entre 2.5 millones y menos de 4 millones</td>\n",
       "      <td>Entre 21 y 30 horas</td>\n",
       "      <td>Estrato 3</td>\n",
       "      <td>Si</td>\n",
       "      <td>Primaria completa</td>\n",
       "      <td>Primaria completa</td>\n",
       "      <td>No</td>\n",
       "      <td>medio-bajo</td>\n",
       "    </tr>\n",
       "  </tbody>\n",
       "</table>\n",
       "</div>"
      ],
      "text/plain": [
       "       ID  PERIODO         ESTU_PRGM_ACADEMICO ESTU_PRGM_DEPARTAMENTO  \\\n",
       "0  904256    20212                  ENFERMERIA                 BOGOTÁ   \n",
       "1  645256    20212                     DERECHO              ATLANTICO   \n",
       "2  308367    20203       MERCADEO Y PUBLICIDAD                 BOGOTÁ   \n",
       "3  470353    20195  ADMINISTRACION DE EMPRESAS              SANTANDER   \n",
       "4  989032    20212                  PSICOLOGIA              ANTIOQUIA   \n",
       "\n",
       "             ESTU_VALORMATRICULAUNIVERSIDAD ESTU_HORASSEMANATRABAJA  \\\n",
       "0  Entre 5.5 millones y menos de 7 millones       Menos de 10 horas   \n",
       "1  Entre 2.5 millones y menos de 4 millones                       0   \n",
       "2  Entre 2.5 millones y menos de 4 millones         Más de 30 horas   \n",
       "3  Entre 4 millones y menos de 5.5 millones                       0   \n",
       "4  Entre 2.5 millones y menos de 4 millones     Entre 21 y 30 horas   \n",
       "\n",
       "  FAMI_ESTRATOVIVIENDA FAMI_TIENEINTERNET                 FAMI_EDUCACIONPADRE  \\\n",
       "0            Estrato 3                 Si    Técnica o tecnológica incompleta   \n",
       "1            Estrato 3                 No      Técnica o tecnológica completa   \n",
       "2            Estrato 3                 Si  Secundaria (Bachillerato) completa   \n",
       "3            Estrato 4                 Si                             No sabe   \n",
       "4            Estrato 3                 Si                   Primaria completa   \n",
       "\n",
       "                  FAMI_EDUCACIONMADRE ESTU_PAGOMATRICULAPROPIO  \\\n",
       "0                           Postgrado                       No   \n",
       "1    Técnica o tecnológica incompleta                       No   \n",
       "2  Secundaria (Bachillerato) completa                       No   \n",
       "3  Secundaria (Bachillerato) completa                       No   \n",
       "4                   Primaria completa                       No   \n",
       "\n",
       "  RENDIMIENTO_GLOBAL  \n",
       "0         medio-alto  \n",
       "1               bajo  \n",
       "2               bajo  \n",
       "3               alto  \n",
       "4         medio-bajo  "
      ]
     },
     "execution_count": 2,
     "metadata": {},
     "output_type": "execute_result"
    }
   ],
   "source": [
    "df = pd.read_csv(\"train.csv\")\n",
    "\n",
    "# Vista rápida de los primeros registros\n",
    "df.head()"
   ]
  },
  {
   "cell_type": "markdown",
   "metadata": {},
   "source": [
    "3. Información general del dataset"
   ]
  },
  {
   "cell_type": "code",
   "execution_count": 3,
   "metadata": {},
   "outputs": [
    {
     "name": "stdout",
     "output_type": "stream",
     "text": [
      "El dataset tiene 692500 filas y 12 columnas.\n",
      "Primeras 5 filas:\n"
     ]
    },
    {
     "data": {
      "text/html": [
       "<div>\n",
       "<style scoped>\n",
       "    .dataframe tbody tr th:only-of-type {\n",
       "        vertical-align: middle;\n",
       "    }\n",
       "\n",
       "    .dataframe tbody tr th {\n",
       "        vertical-align: top;\n",
       "    }\n",
       "\n",
       "    .dataframe thead th {\n",
       "        text-align: right;\n",
       "    }\n",
       "</style>\n",
       "<table border=\"1\" class=\"dataframe\">\n",
       "  <thead>\n",
       "    <tr style=\"text-align: right;\">\n",
       "      <th></th>\n",
       "      <th>ID</th>\n",
       "      <th>PERIODO</th>\n",
       "      <th>ESTU_PRGM_ACADEMICO</th>\n",
       "      <th>ESTU_PRGM_DEPARTAMENTO</th>\n",
       "      <th>ESTU_VALORMATRICULAUNIVERSIDAD</th>\n",
       "      <th>ESTU_HORASSEMANATRABAJA</th>\n",
       "      <th>FAMI_ESTRATOVIVIENDA</th>\n",
       "      <th>FAMI_TIENEINTERNET</th>\n",
       "      <th>FAMI_EDUCACIONPADRE</th>\n",
       "      <th>FAMI_EDUCACIONMADRE</th>\n",
       "      <th>ESTU_PAGOMATRICULAPROPIO</th>\n",
       "      <th>RENDIMIENTO_GLOBAL</th>\n",
       "    </tr>\n",
       "  </thead>\n",
       "  <tbody>\n",
       "    <tr>\n",
       "      <th>0</th>\n",
       "      <td>904256</td>\n",
       "      <td>20212</td>\n",
       "      <td>ENFERMERIA</td>\n",
       "      <td>BOGOTÁ</td>\n",
       "      <td>Entre 5.5 millones y menos de 7 millones</td>\n",
       "      <td>Menos de 10 horas</td>\n",
       "      <td>Estrato 3</td>\n",
       "      <td>Si</td>\n",
       "      <td>Técnica o tecnológica incompleta</td>\n",
       "      <td>Postgrado</td>\n",
       "      <td>No</td>\n",
       "      <td>medio-alto</td>\n",
       "    </tr>\n",
       "    <tr>\n",
       "      <th>1</th>\n",
       "      <td>645256</td>\n",
       "      <td>20212</td>\n",
       "      <td>DERECHO</td>\n",
       "      <td>ATLANTICO</td>\n",
       "      <td>Entre 2.5 millones y menos de 4 millones</td>\n",
       "      <td>0</td>\n",
       "      <td>Estrato 3</td>\n",
       "      <td>No</td>\n",
       "      <td>Técnica o tecnológica completa</td>\n",
       "      <td>Técnica o tecnológica incompleta</td>\n",
       "      <td>No</td>\n",
       "      <td>bajo</td>\n",
       "    </tr>\n",
       "    <tr>\n",
       "      <th>2</th>\n",
       "      <td>308367</td>\n",
       "      <td>20203</td>\n",
       "      <td>MERCADEO Y PUBLICIDAD</td>\n",
       "      <td>BOGOTÁ</td>\n",
       "      <td>Entre 2.5 millones y menos de 4 millones</td>\n",
       "      <td>Más de 30 horas</td>\n",
       "      <td>Estrato 3</td>\n",
       "      <td>Si</td>\n",
       "      <td>Secundaria (Bachillerato) completa</td>\n",
       "      <td>Secundaria (Bachillerato) completa</td>\n",
       "      <td>No</td>\n",
       "      <td>bajo</td>\n",
       "    </tr>\n",
       "    <tr>\n",
       "      <th>3</th>\n",
       "      <td>470353</td>\n",
       "      <td>20195</td>\n",
       "      <td>ADMINISTRACION DE EMPRESAS</td>\n",
       "      <td>SANTANDER</td>\n",
       "      <td>Entre 4 millones y menos de 5.5 millones</td>\n",
       "      <td>0</td>\n",
       "      <td>Estrato 4</td>\n",
       "      <td>Si</td>\n",
       "      <td>No sabe</td>\n",
       "      <td>Secundaria (Bachillerato) completa</td>\n",
       "      <td>No</td>\n",
       "      <td>alto</td>\n",
       "    </tr>\n",
       "    <tr>\n",
       "      <th>4</th>\n",
       "      <td>989032</td>\n",
       "      <td>20212</td>\n",
       "      <td>PSICOLOGIA</td>\n",
       "      <td>ANTIOQUIA</td>\n",
       "      <td>Entre 2.5 millones y menos de 4 millones</td>\n",
       "      <td>Entre 21 y 30 horas</td>\n",
       "      <td>Estrato 3</td>\n",
       "      <td>Si</td>\n",
       "      <td>Primaria completa</td>\n",
       "      <td>Primaria completa</td>\n",
       "      <td>No</td>\n",
       "      <td>medio-bajo</td>\n",
       "    </tr>\n",
       "  </tbody>\n",
       "</table>\n",
       "</div>"
      ],
      "text/plain": [
       "       ID  PERIODO         ESTU_PRGM_ACADEMICO ESTU_PRGM_DEPARTAMENTO  \\\n",
       "0  904256    20212                  ENFERMERIA                 BOGOTÁ   \n",
       "1  645256    20212                     DERECHO              ATLANTICO   \n",
       "2  308367    20203       MERCADEO Y PUBLICIDAD                 BOGOTÁ   \n",
       "3  470353    20195  ADMINISTRACION DE EMPRESAS              SANTANDER   \n",
       "4  989032    20212                  PSICOLOGIA              ANTIOQUIA   \n",
       "\n",
       "             ESTU_VALORMATRICULAUNIVERSIDAD ESTU_HORASSEMANATRABAJA  \\\n",
       "0  Entre 5.5 millones y menos de 7 millones       Menos de 10 horas   \n",
       "1  Entre 2.5 millones y menos de 4 millones                       0   \n",
       "2  Entre 2.5 millones y menos de 4 millones         Más de 30 horas   \n",
       "3  Entre 4 millones y menos de 5.5 millones                       0   \n",
       "4  Entre 2.5 millones y menos de 4 millones     Entre 21 y 30 horas   \n",
       "\n",
       "  FAMI_ESTRATOVIVIENDA FAMI_TIENEINTERNET                 FAMI_EDUCACIONPADRE  \\\n",
       "0            Estrato 3                 Si    Técnica o tecnológica incompleta   \n",
       "1            Estrato 3                 No      Técnica o tecnológica completa   \n",
       "2            Estrato 3                 Si  Secundaria (Bachillerato) completa   \n",
       "3            Estrato 4                 Si                             No sabe   \n",
       "4            Estrato 3                 Si                   Primaria completa   \n",
       "\n",
       "                  FAMI_EDUCACIONMADRE ESTU_PAGOMATRICULAPROPIO  \\\n",
       "0                           Postgrado                       No   \n",
       "1    Técnica o tecnológica incompleta                       No   \n",
       "2  Secundaria (Bachillerato) completa                       No   \n",
       "3  Secundaria (Bachillerato) completa                       No   \n",
       "4                   Primaria completa                       No   \n",
       "\n",
       "  RENDIMIENTO_GLOBAL  \n",
       "0         medio-alto  \n",
       "1               bajo  \n",
       "2               bajo  \n",
       "3               alto  \n",
       "4         medio-bajo  "
      ]
     },
     "metadata": {},
     "output_type": "display_data"
    },
    {
     "name": "stdout",
     "output_type": "stream",
     "text": [
      "<class 'pandas.core.frame.DataFrame'>\n",
      "RangeIndex: 692500 entries, 0 to 692499\n",
      "Data columns (total 12 columns):\n",
      " #   Column                          Non-Null Count   Dtype \n",
      "---  ------                          --------------   ----- \n",
      " 0   ID                              692500 non-null  int64 \n",
      " 1   PERIODO                         692500 non-null  int64 \n",
      " 2   ESTU_PRGM_ACADEMICO             692500 non-null  object\n",
      " 3   ESTU_PRGM_DEPARTAMENTO          692500 non-null  object\n",
      " 4   ESTU_VALORMATRICULAUNIVERSIDAD  686213 non-null  object\n",
      " 5   ESTU_HORASSEMANATRABAJA         661643 non-null  object\n",
      " 6   FAMI_ESTRATOVIVIENDA            660363 non-null  object\n",
      " 7   FAMI_TIENEINTERNET              665871 non-null  object\n",
      " 8   FAMI_EDUCACIONPADRE             669322 non-null  object\n",
      " 9   FAMI_EDUCACIONMADRE             668836 non-null  object\n",
      " 10  ESTU_PAGOMATRICULAPROPIO        686002 non-null  object\n",
      " 11  RENDIMIENTO_GLOBAL              692500 non-null  object\n",
      "dtypes: int64(2), object(10)\n",
      "memory usage: 63.4+ MB\n"
     ]
    }
   ],
   "source": [
    "# Número de filas y columnas\n",
    "print(f\"El dataset tiene {df.shape[0]} filas y {df.shape[1]} columnas.\")\n",
    "\n",
    "print(\"Primeras 5 filas:\")\n",
    "display(df.head())\n",
    "\n",
    "# Tipos de datos y valores nulos\n",
    "df.info()"
   ]
  },
  {
   "cell_type": "markdown",
   "metadata": {},
   "source": [
    "3.1 Revision de nombres de las columnas"
   ]
  },
  {
   "cell_type": "code",
   "execution_count": 4,
   "metadata": {},
   "outputs": [
    {
     "name": "stdout",
     "output_type": "stream",
     "text": [
      "['ID', 'PERIODO', 'ESTU_PRGM_ACADEMICO', 'ESTU_PRGM_DEPARTAMENTO', 'ESTU_VALORMATRICULAUNIVERSIDAD', 'ESTU_HORASSEMANATRABAJA', 'FAMI_ESTRATOVIVIENDA', 'FAMI_TIENEINTERNET', 'FAMI_EDUCACIONPADRE', 'FAMI_EDUCACIONMADRE', 'ESTU_PAGOMATRICULAPROPIO', 'RENDIMIENTO_GLOBAL']\n"
     ]
    }
   ],
   "source": [
    "print(df.columns.tolist())"
   ]
  },
  {
   "cell_type": "markdown",
   "metadata": {},
   "source": [
    "4. Estadísticas descriptivas"
   ]
  },
  {
   "cell_type": "code",
   "execution_count": 5,
   "metadata": {},
   "outputs": [
    {
     "data": {
      "text/html": [
       "<div>\n",
       "<style scoped>\n",
       "    .dataframe tbody tr th:only-of-type {\n",
       "        vertical-align: middle;\n",
       "    }\n",
       "\n",
       "    .dataframe tbody tr th {\n",
       "        vertical-align: top;\n",
       "    }\n",
       "\n",
       "    .dataframe thead th {\n",
       "        text-align: right;\n",
       "    }\n",
       "</style>\n",
       "<table border=\"1\" class=\"dataframe\">\n",
       "  <thead>\n",
       "    <tr style=\"text-align: right;\">\n",
       "      <th></th>\n",
       "      <th>ID</th>\n",
       "      <th>PERIODO</th>\n",
       "      <th>ESTU_PRGM_ACADEMICO</th>\n",
       "      <th>ESTU_PRGM_DEPARTAMENTO</th>\n",
       "      <th>ESTU_VALORMATRICULAUNIVERSIDAD</th>\n",
       "      <th>ESTU_HORASSEMANATRABAJA</th>\n",
       "      <th>FAMI_ESTRATOVIVIENDA</th>\n",
       "      <th>FAMI_TIENEINTERNET</th>\n",
       "      <th>FAMI_EDUCACIONPADRE</th>\n",
       "      <th>FAMI_EDUCACIONMADRE</th>\n",
       "      <th>ESTU_PAGOMATRICULAPROPIO</th>\n",
       "      <th>RENDIMIENTO_GLOBAL</th>\n",
       "    </tr>\n",
       "  </thead>\n",
       "  <tbody>\n",
       "    <tr>\n",
       "      <th>count</th>\n",
       "      <td>692500.000000</td>\n",
       "      <td>692500.000000</td>\n",
       "      <td>692500</td>\n",
       "      <td>692500</td>\n",
       "      <td>686213</td>\n",
       "      <td>661643</td>\n",
       "      <td>660363</td>\n",
       "      <td>665871</td>\n",
       "      <td>669322</td>\n",
       "      <td>668836</td>\n",
       "      <td>686002</td>\n",
       "      <td>692500</td>\n",
       "    </tr>\n",
       "    <tr>\n",
       "      <th>unique</th>\n",
       "      <td>NaN</td>\n",
       "      <td>NaN</td>\n",
       "      <td>948</td>\n",
       "      <td>31</td>\n",
       "      <td>8</td>\n",
       "      <td>5</td>\n",
       "      <td>7</td>\n",
       "      <td>2</td>\n",
       "      <td>12</td>\n",
       "      <td>12</td>\n",
       "      <td>2</td>\n",
       "      <td>4</td>\n",
       "    </tr>\n",
       "    <tr>\n",
       "      <th>top</th>\n",
       "      <td>NaN</td>\n",
       "      <td>NaN</td>\n",
       "      <td>DERECHO</td>\n",
       "      <td>BOGOTÁ</td>\n",
       "      <td>Entre 1 millón y menos de 2.5 millones</td>\n",
       "      <td>Más de 30 horas</td>\n",
       "      <td>Estrato 2</td>\n",
       "      <td>Si</td>\n",
       "      <td>Secundaria (Bachillerato) completa</td>\n",
       "      <td>Secundaria (Bachillerato) completa</td>\n",
       "      <td>No</td>\n",
       "      <td>alto</td>\n",
       "    </tr>\n",
       "    <tr>\n",
       "      <th>freq</th>\n",
       "      <td>NaN</td>\n",
       "      <td>NaN</td>\n",
       "      <td>53244</td>\n",
       "      <td>282159</td>\n",
       "      <td>204048</td>\n",
       "      <td>249352</td>\n",
       "      <td>232671</td>\n",
       "      <td>592514</td>\n",
       "      <td>128289</td>\n",
       "      <td>141744</td>\n",
       "      <td>382201</td>\n",
       "      <td>175619</td>\n",
       "    </tr>\n",
       "    <tr>\n",
       "      <th>mean</th>\n",
       "      <td>494606.130576</td>\n",
       "      <td>20198.366679</td>\n",
       "      <td>NaN</td>\n",
       "      <td>NaN</td>\n",
       "      <td>NaN</td>\n",
       "      <td>NaN</td>\n",
       "      <td>NaN</td>\n",
       "      <td>NaN</td>\n",
       "      <td>NaN</td>\n",
       "      <td>NaN</td>\n",
       "      <td>NaN</td>\n",
       "      <td>NaN</td>\n",
       "    </tr>\n",
       "    <tr>\n",
       "      <th>std</th>\n",
       "      <td>285585.209455</td>\n",
       "      <td>10.535037</td>\n",
       "      <td>NaN</td>\n",
       "      <td>NaN</td>\n",
       "      <td>NaN</td>\n",
       "      <td>NaN</td>\n",
       "      <td>NaN</td>\n",
       "      <td>NaN</td>\n",
       "      <td>NaN</td>\n",
       "      <td>NaN</td>\n",
       "      <td>NaN</td>\n",
       "      <td>NaN</td>\n",
       "    </tr>\n",
       "    <tr>\n",
       "      <th>min</th>\n",
       "      <td>1.000000</td>\n",
       "      <td>20183.000000</td>\n",
       "      <td>NaN</td>\n",
       "      <td>NaN</td>\n",
       "      <td>NaN</td>\n",
       "      <td>NaN</td>\n",
       "      <td>NaN</td>\n",
       "      <td>NaN</td>\n",
       "      <td>NaN</td>\n",
       "      <td>NaN</td>\n",
       "      <td>NaN</td>\n",
       "      <td>NaN</td>\n",
       "    </tr>\n",
       "    <tr>\n",
       "      <th>25%</th>\n",
       "      <td>247324.750000</td>\n",
       "      <td>20195.000000</td>\n",
       "      <td>NaN</td>\n",
       "      <td>NaN</td>\n",
       "      <td>NaN</td>\n",
       "      <td>NaN</td>\n",
       "      <td>NaN</td>\n",
       "      <td>NaN</td>\n",
       "      <td>NaN</td>\n",
       "      <td>NaN</td>\n",
       "      <td>NaN</td>\n",
       "      <td>NaN</td>\n",
       "    </tr>\n",
       "    <tr>\n",
       "      <th>50%</th>\n",
       "      <td>494564.500000</td>\n",
       "      <td>20195.000000</td>\n",
       "      <td>NaN</td>\n",
       "      <td>NaN</td>\n",
       "      <td>NaN</td>\n",
       "      <td>NaN</td>\n",
       "      <td>NaN</td>\n",
       "      <td>NaN</td>\n",
       "      <td>NaN</td>\n",
       "      <td>NaN</td>\n",
       "      <td>NaN</td>\n",
       "      <td>NaN</td>\n",
       "    </tr>\n",
       "    <tr>\n",
       "      <th>75%</th>\n",
       "      <td>741782.500000</td>\n",
       "      <td>20203.000000</td>\n",
       "      <td>NaN</td>\n",
       "      <td>NaN</td>\n",
       "      <td>NaN</td>\n",
       "      <td>NaN</td>\n",
       "      <td>NaN</td>\n",
       "      <td>NaN</td>\n",
       "      <td>NaN</td>\n",
       "      <td>NaN</td>\n",
       "      <td>NaN</td>\n",
       "      <td>NaN</td>\n",
       "    </tr>\n",
       "    <tr>\n",
       "      <th>max</th>\n",
       "      <td>989286.000000</td>\n",
       "      <td>20213.000000</td>\n",
       "      <td>NaN</td>\n",
       "      <td>NaN</td>\n",
       "      <td>NaN</td>\n",
       "      <td>NaN</td>\n",
       "      <td>NaN</td>\n",
       "      <td>NaN</td>\n",
       "      <td>NaN</td>\n",
       "      <td>NaN</td>\n",
       "      <td>NaN</td>\n",
       "      <td>NaN</td>\n",
       "    </tr>\n",
       "  </tbody>\n",
       "</table>\n",
       "</div>"
      ],
      "text/plain": [
       "                   ID        PERIODO ESTU_PRGM_ACADEMICO  \\\n",
       "count   692500.000000  692500.000000              692500   \n",
       "unique            NaN            NaN                 948   \n",
       "top               NaN            NaN             DERECHO   \n",
       "freq              NaN            NaN               53244   \n",
       "mean    494606.130576   20198.366679                 NaN   \n",
       "std     285585.209455      10.535037                 NaN   \n",
       "min          1.000000   20183.000000                 NaN   \n",
       "25%     247324.750000   20195.000000                 NaN   \n",
       "50%     494564.500000   20195.000000                 NaN   \n",
       "75%     741782.500000   20203.000000                 NaN   \n",
       "max     989286.000000   20213.000000                 NaN   \n",
       "\n",
       "       ESTU_PRGM_DEPARTAMENTO          ESTU_VALORMATRICULAUNIVERSIDAD  \\\n",
       "count                  692500                                  686213   \n",
       "unique                     31                                       8   \n",
       "top                    BOGOTÁ  Entre 1 millón y menos de 2.5 millones   \n",
       "freq                   282159                                  204048   \n",
       "mean                      NaN                                     NaN   \n",
       "std                       NaN                                     NaN   \n",
       "min                       NaN                                     NaN   \n",
       "25%                       NaN                                     NaN   \n",
       "50%                       NaN                                     NaN   \n",
       "75%                       NaN                                     NaN   \n",
       "max                       NaN                                     NaN   \n",
       "\n",
       "       ESTU_HORASSEMANATRABAJA FAMI_ESTRATOVIVIENDA FAMI_TIENEINTERNET  \\\n",
       "count                   661643               660363             665871   \n",
       "unique                       5                    7                  2   \n",
       "top            Más de 30 horas            Estrato 2                 Si   \n",
       "freq                    249352               232671             592514   \n",
       "mean                       NaN                  NaN                NaN   \n",
       "std                        NaN                  NaN                NaN   \n",
       "min                        NaN                  NaN                NaN   \n",
       "25%                        NaN                  NaN                NaN   \n",
       "50%                        NaN                  NaN                NaN   \n",
       "75%                        NaN                  NaN                NaN   \n",
       "max                        NaN                  NaN                NaN   \n",
       "\n",
       "                       FAMI_EDUCACIONPADRE  \\\n",
       "count                               669322   \n",
       "unique                                  12   \n",
       "top     Secundaria (Bachillerato) completa   \n",
       "freq                                128289   \n",
       "mean                                   NaN   \n",
       "std                                    NaN   \n",
       "min                                    NaN   \n",
       "25%                                    NaN   \n",
       "50%                                    NaN   \n",
       "75%                                    NaN   \n",
       "max                                    NaN   \n",
       "\n",
       "                       FAMI_EDUCACIONMADRE ESTU_PAGOMATRICULAPROPIO  \\\n",
       "count                               668836                   686002   \n",
       "unique                                  12                        2   \n",
       "top     Secundaria (Bachillerato) completa                       No   \n",
       "freq                                141744                   382201   \n",
       "mean                                   NaN                      NaN   \n",
       "std                                    NaN                      NaN   \n",
       "min                                    NaN                      NaN   \n",
       "25%                                    NaN                      NaN   \n",
       "50%                                    NaN                      NaN   \n",
       "75%                                    NaN                      NaN   \n",
       "max                                    NaN                      NaN   \n",
       "\n",
       "       RENDIMIENTO_GLOBAL  \n",
       "count              692500  \n",
       "unique                  4  \n",
       "top                  alto  \n",
       "freq               175619  \n",
       "mean                  NaN  \n",
       "std                   NaN  \n",
       "min                   NaN  \n",
       "25%                   NaN  \n",
       "50%                   NaN  \n",
       "75%                   NaN  \n",
       "max                   NaN  "
      ]
     },
     "execution_count": 5,
     "metadata": {},
     "output_type": "execute_result"
    }
   ],
   "source": [
    "df.describe(include='all')"
   ]
  },
  {
   "cell_type": "markdown",
   "metadata": {},
   "source": [
    "5. Revisión de valores nulos"
   ]
  },
  {
   "cell_type": "code",
   "execution_count": 6,
   "metadata": {},
   "outputs": [
    {
     "name": "stdout",
     "output_type": "stream",
     "text": [
      "Columnas con valores nulos:\n",
      "FAMI_ESTRATOVIVIENDA              32137\n",
      "ESTU_HORASSEMANATRABAJA           30857\n",
      "FAMI_TIENEINTERNET                26629\n",
      "FAMI_EDUCACIONMADRE               23664\n",
      "FAMI_EDUCACIONPADRE               23178\n",
      "ESTU_PAGOMATRICULAPROPIO           6498\n",
      "ESTU_VALORMATRICULAUNIVERSIDAD     6287\n",
      "dtype: int64\n"
     ]
    }
   ],
   "source": [
    "nulos = df.isnull().sum()\n",
    "nulos = nulos[nulos > 0]\n",
    "\n",
    "if not nulos.empty:\n",
    "    print(\"Columnas con valores nulos:\")\n",
    "    print(nulos.sort_values(ascending=False))\n",
    "else:\n",
    "    print(\"No hay valores nulos en el dataset.\")"
   ]
  },
  {
   "cell_type": "markdown",
   "metadata": {},
   "source": [
    "6. Distribución de la variable objetivo"
   ]
  },
  {
   "cell_type": "code",
   "execution_count": 7,
   "metadata": {},
   "outputs": [
    {
     "name": "stdout",
     "output_type": "stream",
     "text": [
      "Distribución de RENDIMIENTO_GLOBAL:\n",
      "RENDIMIENTO_GLOBAL\n",
      "alto          175619\n",
      "bajo          172987\n",
      "medio-bajo    172275\n",
      "medio-alto    171619\n",
      "Name: count, dtype: int64\n"
     ]
    },
    {
     "name": "stderr",
     "output_type": "stream",
     "text": [
      "C:\\Users\\UsuariO\\AppData\\Local\\Temp\\ipykernel_21200\\2807328851.py:8: FutureWarning: \n",
      "\n",
      "Passing `palette` without assigning `hue` is deprecated and will be removed in v0.14.0. Assign the `x` variable to `hue` and set `legend=False` for the same effect.\n",
      "\n",
      "  sns.countplot(data=df, x=\"RENDIMIENTO_GLOBAL\", order=rendimiento_counts.index, palette=\"Set2\")\n"
     ]
    },
    {
     "data": {
      "image/png": "[encoded data removed]",
      "text/plain": [
       "<Figure size 1000x600 with 1 Axes>"
      ]
     },
     "metadata": {},
     "output_type": "display_data"
    }
   ],
   "source": [
    "rendimiento_counts = df[\"RENDIMIENTO_GLOBAL\"].value_counts()\n",
    "\n",
    "# Mostrar conteo\n",
    "print(\"Distribución de RENDIMIENTO_GLOBAL:\")\n",
    "print(rendimiento_counts)\n",
    "\n",
    "# Visualizar con gráfico de barras\n",
    "sns.countplot(data=df, x=\"RENDIMIENTO_GLOBAL\", order=rendimiento_counts.index, palette=\"Set2\")\n",
    "plt.title(\"Distribución de RENDIMIENTO_GLOBAL\")\n",
    "plt.xlabel(\"Categoría\")\n",
    "plt.ylabel(\"Número de estudiantes\")\n",
    "plt.show()"
   ]
  },
  {
   "cell_type": "markdown",
   "metadata": {},
   "source": [
    "7. Análisis por estrato socioeconómico"
   ]
  },
  {
   "cell_type": "code",
   "execution_count": 8,
   "metadata": {},
   "outputs": [
    {
     "name": "stdout",
     "output_type": "stream",
     "text": [
      "Distribución por estrato socioeconómico:\n",
      "FAMI_ESTRATOVIVIENDA\n",
      "Estrato 2      232671\n",
      "Estrato 3      210685\n",
      "Estrato 1      111991\n",
      "Estrato 4       65514\n",
      "Estrato 5       23608\n",
      "Estrato 6       12605\n",
      "Sin Estrato      3289\n",
      "Name: count, dtype: int64\n"
     ]
    },
    {
     "name": "stderr",
     "output_type": "stream",
     "text": [
      "C:\\Users\\UsuariO\\AppData\\Local\\Temp\\ipykernel_21200\\1365692827.py:6: FutureWarning: \n",
      "\n",
      "Passing `palette` without assigning `hue` is deprecated and will be removed in v0.14.0. Assign the `x` variable to `hue` and set `legend=False` for the same effect.\n",
      "\n",
      "  sns.countplot(data=df, x=\"FAMI_ESTRATOVIVIENDA\", order=estrato_counts.index, palette=\"cool\")\n"
     ]
    },
    {
     "data": {
      "image/png": "[encoded data removed]",
      "text/plain": [
       "<Figure size 1000x600 with 1 Axes>"
      ]
     },
     "metadata": {},
     "output_type": "display_data"
    }
   ],
   "source": [
    "estrato_counts = df[\"FAMI_ESTRATOVIVIENDA\"].value_counts()\n",
    "\n",
    "print(\"Distribución por estrato socioeconómico:\")\n",
    "print(estrato_counts)\n",
    "\n",
    "sns.countplot(data=df, x=\"FAMI_ESTRATOVIVIENDA\", order=estrato_counts.index, palette=\"cool\")\n",
    "plt.title(\"Distribución de estudiantes por estrato\")\n",
    "plt.xlabel(\"Estrato\")\n",
    "plt.ylabel(\"Número de estudiantes\")\n",
    "plt.show()"
   ]
  },
  {
   "cell_type": "code",
   "execution_count": 9,
   "metadata": {},
   "outputs": [
    {
     "data": {
      "image/png": "[encoded data removed]",
      "text/plain": [
       "<Figure size 1000x600 with 1 Axes>"
      ]
     },
     "metadata": {},
     "output_type": "display_data"
    }
   ],
   "source": [
    "# Relación entre estrato y rendimiento\n",
    "sns.countplot(data=df, x=\"RENDIMIENTO_GLOBAL\", hue=\"FAMI_ESTRATOVIVIENDA\", order=rendimiento_counts.index, palette=\"viridis\")\n",
    "plt.title(\"RENDIMIENTO_GLOBAL por Estrato\")\n",
    "plt.xlabel(\"Rendimiento\")\n",
    "plt.ylabel(\"Número de estudiantes\")\n",
    "plt.legend(title=\"Estrato\")\n",
    "plt.show()"
   ]
  },
  {
   "cell_type": "markdown",
   "metadata": {},
   "source": [
    "8. Análisis de acceso a Internet"
   ]
  },
  {
   "cell_type": "code",
   "execution_count": 10,
   "metadata": {},
   "outputs": [
    {
     "name": "stdout",
     "output_type": "stream",
     "text": [
      "Distribución de acceso a internet:\n",
      "FAMI_TIENEINTERNET\n",
      "Si    592514\n",
      "No     73357\n",
      "Name: count, dtype: int64\n"
     ]
    },
    {
     "name": "stderr",
     "output_type": "stream",
     "text": [
      "C:\\Users\\UsuariO\\AppData\\Local\\Temp\\ipykernel_21200\\2208354559.py:6: FutureWarning: \n",
      "\n",
      "Passing `palette` without assigning `hue` is deprecated and will be removed in v0.14.0. Assign the `x` variable to `hue` and set `legend=False` for the same effect.\n",
      "\n",
      "  sns.countplot(data=df, x=\"FAMI_TIENEINTERNET\", palette=\"Set3\")\n"
     ]
    },
    {
     "data": {
      "image/png": "[encoded data removed]",
      "text/plain": [
       "<Figure size 1000x600 with 1 Axes>"
      ]
     },
     "metadata": {},
     "output_type": "display_data"
    }
   ],
   "source": [
    "internet_counts = df[\"FAMI_TIENEINTERNET\"].value_counts()\n",
    "\n",
    "print(\"Distribución de acceso a internet:\")\n",
    "print(internet_counts)\n",
    "\n",
    "sns.countplot(data=df, x=\"FAMI_TIENEINTERNET\", palette=\"Set3\")\n",
    "plt.title(\"Acceso a Internet en el hogar\")\n",
    "plt.xlabel(\"¿Tiene Internet?\")\n",
    "plt.ylabel(\"Número de estudiantes\")\n",
    "plt.show()"
   ]
  },
  {
   "cell_type": "code",
   "execution_count": 11,
   "metadata": {},
   "outputs": [
    {
     "data": {
      "image/png": "[encoded data removed]",
      "text/plain": [
       "<Figure size 1000x600 with 1 Axes>"
      ]
     },
     "metadata": {},
     "output_type": "display_data"
    }
   ],
   "source": [
    "# Relación entre tener internet y rendimiento\n",
    "sns.countplot(data=df, x=\"RENDIMIENTO_GLOBAL\", hue=\"FAMI_TIENEINTERNET\", order=rendimiento_counts.index, palette=\"pastel\")\n",
    "plt.title(\"RENDIMIENTO_GLOBAL según acceso a Internet\")\n",
    "plt.xlabel(\"Rendimiento\")\n",
    "plt.ylabel(\"Número de estudiantes\")\n",
    "plt.legend(title=\"¿Internet?\")\n",
    "plt.show()"
   ]
  },
  {
   "cell_type": "markdown",
   "metadata": {},
   "source": [
    "Conclusiones"
   ]
  },
  {
   "cell_type": "markdown",
   "metadata": {},
   "source": [
    "La variable objetivo RENDIMIENTO_GLOBAL tiene cuatro clases: bajo, medio-bajo, medio-alto y alto. Se observa una distribución razonablemente balanceada, aunque la clase \"medio-bajo\" es la más común.\n",
    "\n",
    "En cuanto al estrato socioeconómico (FAMI_ESTRATOVIVIENDA), los estratos 2 y 3 son los más frecuentes. Además, los estratos más altos tienden a concentrar un mayor rendimiento, sugiriendo una posible relación entre el nivel socioeconómico y el rendimiento académico.\n",
    "\n",
    "El análisis de la variable FAMI_TIENEINTERNET muestra que la mayoría de los estudiantes sí tienen acceso a internet, y esta variable también parece correlacionarse positivamente con un mayor rendimiento global.\n"
   ]
  }
 ],
 "metadata": {
  "kernelspec": {
   "display_name": "Python 3",
   "language": "python",
   "name": "python3"
  },
  "language_info": {
   "codemirror_mode": {
    "name": "ipython",
    "version": 3
   },
   "file_extension": ".py",
   "mimetype": "text/x-python",
   "name": "python",
   "nbconvert_exporter": "python",
   "pygments_lexer": "ipython3",
   "version": "3.13.2"
  }
 },
 "nbformat": 4,
 "nbformat_minor": 2
}
